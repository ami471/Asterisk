{
 "cells": [
  {
   "cell_type": "code",
   "execution_count": 14,
   "id": "4a82ccd3",
   "metadata": {},
   "outputs": [],
   "source": [
    "import requests\n",
    "import json\n",
    "data = requests.get('https://api.datayuge.com/api/v1/lookup/mnp/rubicsolution?apikey=05BQaZLdYLJuhZK5AgwZ08sH9MyE1l5c&number=8369854211').json()\n",
    "#print(response_API.status_code)\n",
    "#data = response_API.text\n"
   ]
  },
  {
   "cell_type": "code",
   "execution_count": 15,
   "id": "1f894ff7",
   "metadata": {},
   "outputs": [
    {
     "name": "stdout",
     "output_type": "stream",
     "text": [
      "{'success': True, 'data': {'operator': 'Jio', 'circle': 'Mumbai'}}\n"
     ]
    }
   ],
   "source": [
    "print(data)"
   ]
  },
  {
   "cell_type": "code",
   "execution_count": 9,
   "id": "8599ed2e",
   "metadata": {},
   "outputs": [
    {
     "data": {
      "text/plain": [
       "{'success': True, 'data': {'operator': 'Airtel', 'circle': 'Bihar Jharkhand'}}"
      ]
     },
     "execution_count": 9,
     "metadata": {},
     "output_type": "execute_result"
    }
   ],
   "source": [
    "{'success': True, 'data': {'operator': 'Airtel', 'circle': 'Bihar Jharkhand'}}"
   ]
  },
  {
   "cell_type": "code",
   "execution_count": 16,
   "id": "bde1db97",
   "metadata": {},
   "outputs": [],
   "source": [
    "dict_a = data"
   ]
  },
  {
   "cell_type": "code",
   "execution_count": 17,
   "id": "ac0d3baf",
   "metadata": {},
   "outputs": [
    {
     "name": "stdout",
     "output_type": "stream",
     "text": [
      "{'operator': 'Jio', 'circle': 'Mumbai'}\n"
     ]
    }
   ],
   "source": [
    "print(dict_a['data'])"
   ]
  },
  {
   "cell_type": "code",
   "execution_count": 18,
   "id": "f8756b05",
   "metadata": {},
   "outputs": [],
   "source": [
    "dict_circle = dict_a['data']"
   ]
  },
  {
   "cell_type": "code",
   "execution_count": 19,
   "id": "65b9ce16",
   "metadata": {},
   "outputs": [
    {
     "name": "stdout",
     "output_type": "stream",
     "text": [
      "Mumbai\n"
     ]
    }
   ],
   "source": [
    "circle = dict_circle['circle']\n",
    "print(circle)"
   ]
  },
  {
   "cell_type": "code",
   "execution_count": 25,
   "id": "fcd5fe65",
   "metadata": {},
   "outputs": [
    {
     "name": "stdout",
     "output_type": "stream",
     "text": [
      "Maharashtra\n"
     ]
    }
   ],
   "source": [
    "import requests\n",
    "import json\n",
    "contact = {'9730641180'}\n",
    "data = requests.get('https://api.datayuge.com/api/v1/lookup/mnp/rubicsolution?apikey=05BQaZLdYLJuhZK5AgwZ08sH9MyE1l5c&number=9730641180').json()\n",
    "dict_a = data\n",
    "dict_circle = dict_a['data']\n",
    "circle = dict_circle['circle']\n",
    "print(circle)"
   ]
  },
  {
   "cell_type": "code",
   "execution_count": 55,
   "id": "62488dba",
   "metadata": {},
   "outputs": [],
   "source": [
    "import requests\n",
    "import json\n",
    "URL = \"https://api.datayuge.com/api/v1/lookup/mnp/rubicsolution?apikey=05BQaZLdYLJuhZK5AgwZ08sH9MyE1l5c&number=\""
   ]
  },
  {
   "cell_type": "code",
   "execution_count": 56,
   "id": "35a4e991",
   "metadata": {},
   "outputs": [],
   "source": [
    "number = '9431467827'\n",
    "#contact = {'9730641180'}\n",
    "PARAMS = {'number':number}"
   ]
  },
  {
   "cell_type": "code",
   "execution_count": 57,
   "id": "c655461f",
   "metadata": {},
   "outputs": [],
   "source": [
    "r = requests.get(url = URL, params = PARAMS)"
   ]
  },
  {
   "cell_type": "code",
   "execution_count": 58,
   "id": "ccbbfafc",
   "metadata": {},
   "outputs": [],
   "source": [
    "data = r.json()"
   ]
  },
  {
   "cell_type": "code",
   "execution_count": 59,
   "id": "872184b6",
   "metadata": {},
   "outputs": [
    {
     "name": "stdout",
     "output_type": "stream",
     "text": [
      "{'success': True, 'data': {'operator': 'Airtel', 'circle': 'Bihar Jharkhand'}}\n"
     ]
    }
   ],
   "source": [
    "print(data)"
   ]
  },
  {
   "cell_type": "code",
   "execution_count": 60,
   "id": "2cb98e0e",
   "metadata": {},
   "outputs": [
    {
     "name": "stdout",
     "output_type": "stream",
     "text": [
      "Bihar Jharkhand\n"
     ]
    }
   ],
   "source": [
    "dict_a = data\n",
    "dict_circle = dict_a['data']\n",
    "circle = dict_circle['circle']\n",
    "print(circle)"
   ]
  },
  {
   "cell_type": "code",
   "execution_count": null,
   "id": "42aecabc",
   "metadata": {},
   "outputs": [],
   "source": []
  }
 ],
 "metadata": {
  "kernelspec": {
   "display_name": "Python 3",
   "language": "python",
   "name": "python3"
  },
  "language_info": {
   "codemirror_mode": {
    "name": "ipython",
    "version": 3
   },
   "file_extension": ".py",
   "mimetype": "text/x-python",
   "name": "python",
   "nbconvert_exporter": "python",
   "pygments_lexer": "ipython3",
   "version": "3.8.8"
  }
 },
 "nbformat": 4,
 "nbformat_minor": 5
}
